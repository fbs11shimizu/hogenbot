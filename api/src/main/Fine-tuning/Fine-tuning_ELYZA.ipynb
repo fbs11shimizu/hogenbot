{
  "nbformat": 4,
  "nbformat_minor": 0,
  "metadata": {
    "colab": {
      "provenance": [],
      "gpuType": "T4"
    },
    "kernelspec": {
      "name": "python3",
      "display_name": "Python 3"
    },
    "language_info": {
      "name": "python"
    },
    "accelerator": "GPU",
    "widgets": {
      "application/vnd.jupyter.widget-state+json": {
        "02cb377baf8c4a8d8eed463503b3ca28": {
          "model_module": "@jupyter-widgets/controls",
          "model_name": "HBoxModel",
          "model_module_version": "1.5.0",
          "state": {
            "_dom_classes": [],
            "_model_module": "@jupyter-widgets/controls",
            "_model_module_version": "1.5.0",
            "_model_name": "HBoxModel",
            "_view_count": null,
            "_view_module": "@jupyter-widgets/controls",
            "_view_module_version": "1.5.0",
            "_view_name": "HBoxView",
            "box_style": "",
            "children": [
              "IPY_MODEL_58968281e0a847e5bd44dde780c8bd67",
              "IPY_MODEL_f3c68ca057bb484e94f16077dce39b8e",
              "IPY_MODEL_f9781c2c30e3464cae68836458683700"
            ],
            "layout": "IPY_MODEL_af302474580140cbb89fa1347d482e42"
          }
        },
        "58968281e0a847e5bd44dde780c8bd67": {
          "model_module": "@jupyter-widgets/controls",
          "model_name": "HTMLModel",
          "model_module_version": "1.5.0",
          "state": {
            "_dom_classes": [],
            "_model_module": "@jupyter-widgets/controls",
            "_model_module_version": "1.5.0",
            "_model_name": "HTMLModel",
            "_view_count": null,
            "_view_module": "@jupyter-widgets/controls",
            "_view_module_version": "1.5.0",
            "_view_name": "HTMLView",
            "description": "",
            "description_tooltip": null,
            "layout": "IPY_MODEL_d68510256d614729a3513e89d62cccf1",
            "placeholder": "​",
            "style": "IPY_MODEL_9ae296191c824a3a9af3a5ac5d1c9a69",
            "value": "Loading checkpoint shards: 100%"
          }
        },
        "f3c68ca057bb484e94f16077dce39b8e": {
          "model_module": "@jupyter-widgets/controls",
          "model_name": "FloatProgressModel",
          "model_module_version": "1.5.0",
          "state": {
            "_dom_classes": [],
            "_model_module": "@jupyter-widgets/controls",
            "_model_module_version": "1.5.0",
            "_model_name": "FloatProgressModel",
            "_view_count": null,
            "_view_module": "@jupyter-widgets/controls",
            "_view_module_version": "1.5.0",
            "_view_name": "ProgressView",
            "bar_style": "success",
            "description": "",
            "description_tooltip": null,
            "layout": "IPY_MODEL_4f66b73c45aa4d768bfd91030575d646",
            "max": 4,
            "min": 0,
            "orientation": "horizontal",
            "style": "IPY_MODEL_50cb6ad73fca44cd8842d5cc58d3ccb0",
            "value": 4
          }
        },
        "f9781c2c30e3464cae68836458683700": {
          "model_module": "@jupyter-widgets/controls",
          "model_name": "HTMLModel",
          "model_module_version": "1.5.0",
          "state": {
            "_dom_classes": [],
            "_model_module": "@jupyter-widgets/controls",
            "_model_module_version": "1.5.0",
            "_model_name": "HTMLModel",
            "_view_count": null,
            "_view_module": "@jupyter-widgets/controls",
            "_view_module_version": "1.5.0",
            "_view_name": "HTMLView",
            "description": "",
            "description_tooltip": null,
            "layout": "IPY_MODEL_7182ca2053634efeaf48bd86577406f6",
            "placeholder": "​",
            "style": "IPY_MODEL_80efb0f5abf149169341cc365dacd570",
            "value": " 4/4 [01:32&lt;00:00, 19.79s/it]"
          }
        },
        "af302474580140cbb89fa1347d482e42": {
          "model_module": "@jupyter-widgets/base",
          "model_name": "LayoutModel",
          "model_module_version": "1.2.0",
          "state": {
            "_model_module": "@jupyter-widgets/base",
            "_model_module_version": "1.2.0",
            "_model_name": "LayoutModel",
            "_view_count": null,
            "_view_module": "@jupyter-widgets/base",
            "_view_module_version": "1.2.0",
            "_view_name": "LayoutView",
            "align_content": null,
            "align_items": null,
            "align_self": null,
            "border": null,
            "bottom": null,
            "display": null,
            "flex": null,
            "flex_flow": null,
            "grid_area": null,
            "grid_auto_columns": null,
            "grid_auto_flow": null,
            "grid_auto_rows": null,
            "grid_column": null,
            "grid_gap": null,
            "grid_row": null,
            "grid_template_areas": null,
            "grid_template_columns": null,
            "grid_template_rows": null,
            "height": null,
            "justify_content": null,
            "justify_items": null,
            "left": null,
            "margin": null,
            "max_height": null,
            "max_width": null,
            "min_height": null,
            "min_width": null,
            "object_fit": null,
            "object_position": null,
            "order": null,
            "overflow": null,
            "overflow_x": null,
            "overflow_y": null,
            "padding": null,
            "right": null,
            "top": null,
            "visibility": null,
            "width": null
          }
        },
        "d68510256d614729a3513e89d62cccf1": {
          "model_module": "@jupyter-widgets/base",
          "model_name": "LayoutModel",
          "model_module_version": "1.2.0",
          "state": {
            "_model_module": "@jupyter-widgets/base",
            "_model_module_version": "1.2.0",
            "_model_name": "LayoutModel",
            "_view_count": null,
            "_view_module": "@jupyter-widgets/base",
            "_view_module_version": "1.2.0",
            "_view_name": "LayoutView",
            "align_content": null,
            "align_items": null,
            "align_self": null,
            "border": null,
            "bottom": null,
            "display": null,
            "flex": null,
            "flex_flow": null,
            "grid_area": null,
            "grid_auto_columns": null,
            "grid_auto_flow": null,
            "grid_auto_rows": null,
            "grid_column": null,
            "grid_gap": null,
            "grid_row": null,
            "grid_template_areas": null,
            "grid_template_columns": null,
            "grid_template_rows": null,
            "height": null,
            "justify_content": null,
            "justify_items": null,
            "left": null,
            "margin": null,
            "max_height": null,
            "max_width": null,
            "min_height": null,
            "min_width": null,
            "object_fit": null,
            "object_position": null,
            "order": null,
            "overflow": null,
            "overflow_x": null,
            "overflow_y": null,
            "padding": null,
            "right": null,
            "top": null,
            "visibility": null,
            "width": null
          }
        },
        "9ae296191c824a3a9af3a5ac5d1c9a69": {
          "model_module": "@jupyter-widgets/controls",
          "model_name": "DescriptionStyleModel",
          "model_module_version": "1.5.0",
          "state": {
            "_model_module": "@jupyter-widgets/controls",
            "_model_module_version": "1.5.0",
            "_model_name": "DescriptionStyleModel",
            "_view_count": null,
            "_view_module": "@jupyter-widgets/base",
            "_view_module_version": "1.2.0",
            "_view_name": "StyleView",
            "description_width": ""
          }
        },
        "4f66b73c45aa4d768bfd91030575d646": {
          "model_module": "@jupyter-widgets/base",
          "model_name": "LayoutModel",
          "model_module_version": "1.2.0",
          "state": {
            "_model_module": "@jupyter-widgets/base",
            "_model_module_version": "1.2.0",
            "_model_name": "LayoutModel",
            "_view_count": null,
            "_view_module": "@jupyter-widgets/base",
            "_view_module_version": "1.2.0",
            "_view_name": "LayoutView",
            "align_content": null,
            "align_items": null,
            "align_self": null,
            "border": null,
            "bottom": null,
            "display": null,
            "flex": null,
            "flex_flow": null,
            "grid_area": null,
            "grid_auto_columns": null,
            "grid_auto_flow": null,
            "grid_auto_rows": null,
            "grid_column": null,
            "grid_gap": null,
            "grid_row": null,
            "grid_template_areas": null,
            "grid_template_columns": null,
            "grid_template_rows": null,
            "height": null,
            "justify_content": null,
            "justify_items": null,
            "left": null,
            "margin": null,
            "max_height": null,
            "max_width": null,
            "min_height": null,
            "min_width": null,
            "object_fit": null,
            "object_position": null,
            "order": null,
            "overflow": null,
            "overflow_x": null,
            "overflow_y": null,
            "padding": null,
            "right": null,
            "top": null,
            "visibility": null,
            "width": null
          }
        },
        "50cb6ad73fca44cd8842d5cc58d3ccb0": {
          "model_module": "@jupyter-widgets/controls",
          "model_name": "ProgressStyleModel",
          "model_module_version": "1.5.0",
          "state": {
            "_model_module": "@jupyter-widgets/controls",
            "_model_module_version": "1.5.0",
            "_model_name": "ProgressStyleModel",
            "_view_count": null,
            "_view_module": "@jupyter-widgets/base",
            "_view_module_version": "1.2.0",
            "_view_name": "StyleView",
            "bar_color": null,
            "description_width": ""
          }
        },
        "7182ca2053634efeaf48bd86577406f6": {
          "model_module": "@jupyter-widgets/base",
          "model_name": "LayoutModel",
          "model_module_version": "1.2.0",
          "state": {
            "_model_module": "@jupyter-widgets/base",
            "_model_module_version": "1.2.0",
            "_model_name": "LayoutModel",
            "_view_count": null,
            "_view_module": "@jupyter-widgets/base",
            "_view_module_version": "1.2.0",
            "_view_name": "LayoutView",
            "align_content": null,
            "align_items": null,
            "align_self": null,
            "border": null,
            "bottom": null,
            "display": null,
            "flex": null,
            "flex_flow": null,
            "grid_area": null,
            "grid_auto_columns": null,
            "grid_auto_flow": null,
            "grid_auto_rows": null,
            "grid_column": null,
            "grid_gap": null,
            "grid_row": null,
            "grid_template_areas": null,
            "grid_template_columns": null,
            "grid_template_rows": null,
            "height": null,
            "justify_content": null,
            "justify_items": null,
            "left": null,
            "margin": null,
            "max_height": null,
            "max_width": null,
            "min_height": null,
            "min_width": null,
            "object_fit": null,
            "object_position": null,
            "order": null,
            "overflow": null,
            "overflow_x": null,
            "overflow_y": null,
            "padding": null,
            "right": null,
            "top": null,
            "visibility": null,
            "width": null
          }
        },
        "80efb0f5abf149169341cc365dacd570": {
          "model_module": "@jupyter-widgets/controls",
          "model_name": "DescriptionStyleModel",
          "model_module_version": "1.5.0",
          "state": {
            "_model_module": "@jupyter-widgets/controls",
            "_model_module_version": "1.5.0",
            "_model_name": "DescriptionStyleModel",
            "_view_count": null,
            "_view_module": "@jupyter-widgets/base",
            "_view_module_version": "1.2.0",
            "_view_name": "StyleView",
            "description_width": ""
          }
        },
        "3b90b557f7e947e78b018224c0e14207": {
          "model_module": "@jupyter-widgets/controls",
          "model_name": "HBoxModel",
          "model_module_version": "1.5.0",
          "state": {
            "_dom_classes": [],
            "_model_module": "@jupyter-widgets/controls",
            "_model_module_version": "1.5.0",
            "_model_name": "HBoxModel",
            "_view_count": null,
            "_view_module": "@jupyter-widgets/controls",
            "_view_module_version": "1.5.0",
            "_view_name": "HBoxView",
            "box_style": "",
            "children": [
              "IPY_MODEL_1b7feda021fa4f8796711f1f469ad754",
              "IPY_MODEL_d0c72d3cf971406e820bee32d3bd0591",
              "IPY_MODEL_6c89e031aa1747e3b19011ac9f4804d5"
            ],
            "layout": "IPY_MODEL_7937733deed145a198db9544aaad36e6"
          }
        },
        "1b7feda021fa4f8796711f1f469ad754": {
          "model_module": "@jupyter-widgets/controls",
          "model_name": "HTMLModel",
          "model_module_version": "1.5.0",
          "state": {
            "_dom_classes": [],
            "_model_module": "@jupyter-widgets/controls",
            "_model_module_version": "1.5.0",
            "_model_name": "HTMLModel",
            "_view_count": null,
            "_view_module": "@jupyter-widgets/controls",
            "_view_module_version": "1.5.0",
            "_view_name": "HTMLView",
            "description": "",
            "description_tooltip": null,
            "layout": "IPY_MODEL_2e97a1d441f54a698539031d3899b5a3",
            "placeholder": "​",
            "style": "IPY_MODEL_d03cd98453ac407087446b3fe7a633bc",
            "value": "Map: 100%"
          }
        },
        "d0c72d3cf971406e820bee32d3bd0591": {
          "model_module": "@jupyter-widgets/controls",
          "model_name": "FloatProgressModel",
          "model_module_version": "1.5.0",
          "state": {
            "_dom_classes": [],
            "_model_module": "@jupyter-widgets/controls",
            "_model_module_version": "1.5.0",
            "_model_name": "FloatProgressModel",
            "_view_count": null,
            "_view_module": "@jupyter-widgets/controls",
            "_view_module_version": "1.5.0",
            "_view_name": "ProgressView",
            "bar_style": "success",
            "description": "",
            "description_tooltip": null,
            "layout": "IPY_MODEL_db19d6d7083d45ceb6c4e7f82c50d238",
            "max": 15015,
            "min": 0,
            "orientation": "horizontal",
            "style": "IPY_MODEL_407e5be9ff5f4568bd6fe9b4c4d8a79f",
            "value": 15015
          }
        },
        "6c89e031aa1747e3b19011ac9f4804d5": {
          "model_module": "@jupyter-widgets/controls",
          "model_name": "HTMLModel",
          "model_module_version": "1.5.0",
          "state": {
            "_dom_classes": [],
            "_model_module": "@jupyter-widgets/controls",
            "_model_module_version": "1.5.0",
            "_model_name": "HTMLModel",
            "_view_count": null,
            "_view_module": "@jupyter-widgets/controls",
            "_view_module_version": "1.5.0",
            "_view_name": "HTMLView",
            "description": "",
            "description_tooltip": null,
            "layout": "IPY_MODEL_fe06ffdd42094ccf82443ede5eb19f78",
            "placeholder": "​",
            "style": "IPY_MODEL_1ab6ae4538574f4c89d3439b36106e92",
            "value": " 15015/15015 [00:12&lt;00:00, 1572.46 examples/s]"
          }
        },
        "7937733deed145a198db9544aaad36e6": {
          "model_module": "@jupyter-widgets/base",
          "model_name": "LayoutModel",
          "model_module_version": "1.2.0",
          "state": {
            "_model_module": "@jupyter-widgets/base",
            "_model_module_version": "1.2.0",
            "_model_name": "LayoutModel",
            "_view_count": null,
            "_view_module": "@jupyter-widgets/base",
            "_view_module_version": "1.2.0",
            "_view_name": "LayoutView",
            "align_content": null,
            "align_items": null,
            "align_self": null,
            "border": null,
            "bottom": null,
            "display": null,
            "flex": null,
            "flex_flow": null,
            "grid_area": null,
            "grid_auto_columns": null,
            "grid_auto_flow": null,
            "grid_auto_rows": null,
            "grid_column": null,
            "grid_gap": null,
            "grid_row": null,
            "grid_template_areas": null,
            "grid_template_columns": null,
            "grid_template_rows": null,
            "height": null,
            "justify_content": null,
            "justify_items": null,
            "left": null,
            "margin": null,
            "max_height": null,
            "max_width": null,
            "min_height": null,
            "min_width": null,
            "object_fit": null,
            "object_position": null,
            "order": null,
            "overflow": null,
            "overflow_x": null,
            "overflow_y": null,
            "padding": null,
            "right": null,
            "top": null,
            "visibility": null,
            "width": null
          }
        },
        "2e97a1d441f54a698539031d3899b5a3": {
          "model_module": "@jupyter-widgets/base",
          "model_name": "LayoutModel",
          "model_module_version": "1.2.0",
          "state": {
            "_model_module": "@jupyter-widgets/base",
            "_model_module_version": "1.2.0",
            "_model_name": "LayoutModel",
            "_view_count": null,
            "_view_module": "@jupyter-widgets/base",
            "_view_module_version": "1.2.0",
            "_view_name": "LayoutView",
            "align_content": null,
            "align_items": null,
            "align_self": null,
            "border": null,
            "bottom": null,
            "display": null,
            "flex": null,
            "flex_flow": null,
            "grid_area": null,
            "grid_auto_columns": null,
            "grid_auto_flow": null,
            "grid_auto_rows": null,
            "grid_column": null,
            "grid_gap": null,
            "grid_row": null,
            "grid_template_areas": null,
            "grid_template_columns": null,
            "grid_template_rows": null,
            "height": null,
            "justify_content": null,
            "justify_items": null,
            "left": null,
            "margin": null,
            "max_height": null,
            "max_width": null,
            "min_height": null,
            "min_width": null,
            "object_fit": null,
            "object_position": null,
            "order": null,
            "overflow": null,
            "overflow_x": null,
            "overflow_y": null,
            "padding": null,
            "right": null,
            "top": null,
            "visibility": null,
            "width": null
          }
        },
        "d03cd98453ac407087446b3fe7a633bc": {
          "model_module": "@jupyter-widgets/controls",
          "model_name": "DescriptionStyleModel",
          "model_module_version": "1.5.0",
          "state": {
            "_model_module": "@jupyter-widgets/controls",
            "_model_module_version": "1.5.0",
            "_model_name": "DescriptionStyleModel",
            "_view_count": null,
            "_view_module": "@jupyter-widgets/base",
            "_view_module_version": "1.2.0",
            "_view_name": "StyleView",
            "description_width": ""
          }
        },
        "db19d6d7083d45ceb6c4e7f82c50d238": {
          "model_module": "@jupyter-widgets/base",
          "model_name": "LayoutModel",
          "model_module_version": "1.2.0",
          "state": {
            "_model_module": "@jupyter-widgets/base",
            "_model_module_version": "1.2.0",
            "_model_name": "LayoutModel",
            "_view_count": null,
            "_view_module": "@jupyter-widgets/base",
            "_view_module_version": "1.2.0",
            "_view_name": "LayoutView",
            "align_content": null,
            "align_items": null,
            "align_self": null,
            "border": null,
            "bottom": null,
            "display": null,
            "flex": null,
            "flex_flow": null,
            "grid_area": null,
            "grid_auto_columns": null,
            "grid_auto_flow": null,
            "grid_auto_rows": null,
            "grid_column": null,
            "grid_gap": null,
            "grid_row": null,
            "grid_template_areas": null,
            "grid_template_columns": null,
            "grid_template_rows": null,
            "height": null,
            "justify_content": null,
            "justify_items": null,
            "left": null,
            "margin": null,
            "max_height": null,
            "max_width": null,
            "min_height": null,
            "min_width": null,
            "object_fit": null,
            "object_position": null,
            "order": null,
            "overflow": null,
            "overflow_x": null,
            "overflow_y": null,
            "padding": null,
            "right": null,
            "top": null,
            "visibility": null,
            "width": null
          }
        },
        "407e5be9ff5f4568bd6fe9b4c4d8a79f": {
          "model_module": "@jupyter-widgets/controls",
          "model_name": "ProgressStyleModel",
          "model_module_version": "1.5.0",
          "state": {
            "_model_module": "@jupyter-widgets/controls",
            "_model_module_version": "1.5.0",
            "_model_name": "ProgressStyleModel",
            "_view_count": null,
            "_view_module": "@jupyter-widgets/base",
            "_view_module_version": "1.2.0",
            "_view_name": "StyleView",
            "bar_color": null,
            "description_width": ""
          }
        },
        "fe06ffdd42094ccf82443ede5eb19f78": {
          "model_module": "@jupyter-widgets/base",
          "model_name": "LayoutModel",
          "model_module_version": "1.2.0",
          "state": {
            "_model_module": "@jupyter-widgets/base",
            "_model_module_version": "1.2.0",
            "_model_name": "LayoutModel",
            "_view_count": null,
            "_view_module": "@jupyter-widgets/base",
            "_view_module_version": "1.2.0",
            "_view_name": "LayoutView",
            "align_content": null,
            "align_items": null,
            "align_self": null,
            "border": null,
            "bottom": null,
            "display": null,
            "flex": null,
            "flex_flow": null,
            "grid_area": null,
            "grid_auto_columns": null,
            "grid_auto_flow": null,
            "grid_auto_rows": null,
            "grid_column": null,
            "grid_gap": null,
            "grid_row": null,
            "grid_template_areas": null,
            "grid_template_columns": null,
            "grid_template_rows": null,
            "height": null,
            "justify_content": null,
            "justify_items": null,
            "left": null,
            "margin": null,
            "max_height": null,
            "max_width": null,
            "min_height": null,
            "min_width": null,
            "object_fit": null,
            "object_position": null,
            "order": null,
            "overflow": null,
            "overflow_x": null,
            "overflow_y": null,
            "padding": null,
            "right": null,
            "top": null,
            "visibility": null,
            "width": null
          }
        },
        "1ab6ae4538574f4c89d3439b36106e92": {
          "model_module": "@jupyter-widgets/controls",
          "model_name": "DescriptionStyleModel",
          "model_module_version": "1.5.0",
          "state": {
            "_model_module": "@jupyter-widgets/controls",
            "_model_module_version": "1.5.0",
            "_model_name": "DescriptionStyleModel",
            "_view_count": null,
            "_view_module": "@jupyter-widgets/base",
            "_view_module_version": "1.2.0",
            "_view_name": "StyleView",
            "description_width": ""
          }
        }
      }
    }
  },
  "cells": [
    {
      "cell_type": "markdown",
      "source": [
        "# Google Colabの使い方\n",
        "\n",
        "- **セルの実行:** `Ctrl + Enter`, `Shift + Enter`\n",
        "- **セルの作成:** `Ctrl + M B`\n",
        "- **セルの削除:** `Ctrl + M D`"
      ],
      "metadata": {
        "id": "H5JXe98rp21B"
      }
    },
    {
      "cell_type": "markdown",
      "source": [
        "※GPUの設定が必要"
      ],
      "metadata": {
        "id": "gDKEik1gp3ji"
      }
    },
    {
      "cell_type": "code",
      "source": [],
      "metadata": {
        "id": "fI2kaMWPp3qh"
      },
      "execution_count": null,
      "outputs": []
    },
    {
      "cell_type": "code",
      "source": [],
      "metadata": {
        "id": "2ooh5O4ip6nY"
      },
      "execution_count": null,
      "outputs": []
    },
    {
      "cell_type": "markdown",
      "source": [
        "# 必要なパッケージのインストール"
      ],
      "metadata": {
        "id": "lJCjepPlp_TX"
      }
    },
    {
      "cell_type": "code",
      "execution_count": 1,
      "metadata": {
        "id": "3R3tYPrpxH4b"
      },
      "outputs": [],
      "source": [
        "%%capture\n",
        "!pip install accelerate==0.27.0 peft==0.6.2 bitsandbytes==0.41.2.post2 trl==0.7.4 sentencepiece==0.1.99 transformers==4.38.2\n",
        "\n",
        "import os\n",
        "import torch\n",
        "import datasets\n",
        "from transformers import (\n",
        "    AutoModelForCausalLM,\n",
        "    AutoTokenizer,\n",
        "    BitsAndBytesConfig,\n",
        "    TrainingArguments\n",
        ")\n",
        "from peft import LoraConfig, PeftModel\n",
        "from trl import SFTTrainer\n",
        "\n",
        "import warnings\n",
        "warnings.filterwarnings(\"ignore\")"
      ]
    },
    {
      "cell_type": "code",
      "source": [
        "# 参照ドライブの設定\n",
        "from google.colab import drive\n",
        "drive.mount('/content/drive')\n",
        "base_path = '/content/drive/Shareddrives/社会基盤システム開発部/部内施策/生成AI人材教育/202409_実技演習/02_成果物/澤木・清水チーム/4_開発'"
      ],
      "metadata": {
        "colab": {
          "base_uri": "https://localhost:8080/"
        },
        "id": "0_DW8X3Jduns",
        "outputId": "1effd5f6-fc83-4d71-965c-aededdc59668"
      },
      "execution_count": 2,
      "outputs": [
        {
          "output_type": "stream",
          "name": "stdout",
          "text": [
            "Drive already mounted at /content/drive; to attempt to forcibly remount, call drive.mount(\"/content/drive\", force_remount=True).\n"
          ]
        }
      ]
    },
    {
      "cell_type": "markdown",
      "source": [
        "# データセットの読み込み"
      ],
      "metadata": {
        "id": "FoN-DNzqhU9S"
      }
    },
    {
      "cell_type": "code",
      "source": [
        "# dataset = datasets.load_dataset(\"bbz662bbz/databricks-dolly-15k-ja-gozarinnemon\", split=\"train\")\n",
        "dataset = datasets.load_dataset('csv', data_files=base_path + '/Fine-tuning用データセット作成/dataset_kansaiben.csv', split='train')"
      ],
      "metadata": {
        "id": "gzsfgrT8yNgq"
      },
      "execution_count": 3,
      "outputs": []
    },
    {
      "cell_type": "code",
      "source": [],
      "metadata": {
        "id": "4d0GsP5w4Kzd"
      },
      "execution_count": 3,
      "outputs": []
    },
    {
      "cell_type": "code",
      "source": [],
      "metadata": {
        "id": "eUiMaroVqCMw"
      },
      "execution_count": 3,
      "outputs": []
    },
    {
      "cell_type": "markdown",
      "source": [
        "# プロンプトテンプレートの準備"
      ],
      "metadata": {
        "id": "9wqr4FyshXq_"
      }
    },
    {
      "cell_type": "code",
      "source": [
        "def generate_prompt(data_point: datasets.Dataset) -> str:\n",
        "    \"\"\"データポイントからフォーマットされたプロンプト文字列を生成\"\"\"\n",
        "    prompt = f\"\"\"\n",
        "    指示:\n",
        "    {data_point[\"instruction\"]}\"\"\"\n",
        "\n",
        "    if data_point[\"input\"]:\n",
        "        prompt += f\"\"\"\n",
        "　　入力:\n",
        "    {data_point[\"input\"]}\"\"\"\n",
        "\n",
        "    prompt += f\"\"\"\n",
        "    応答:\n",
        "    {data_point[\"output\"]}\"\"\"\n",
        "\n",
        "    return prompt\n",
        "\n",
        "def remove_unnecessary_keys(example: datasets.Dataset) -> datasets.Dataset:\n",
        "    \"\"\"不要なキーをデータセットの例から削除\"\"\"\n",
        "    keys_to_remove = [\"index\", \"category\", \"instruction\", \"input\", \"output\"]\n",
        "    for key in keys_to_remove:\n",
        "        del example[key]\n",
        "    return example\n",
        "\n",
        "def process_dataset(example: datasets.Dataset) -> datasets.Dataset:\n",
        "    \"\"\"データセットの前処理を実行\"\"\"\n",
        "    example[\"text\"] = generate_prompt(example)\n",
        "    example = remove_unnecessary_keys(example)\n",
        "    return example\n",
        "\n",
        "dataset = dataset.map(process_dataset)"
      ],
      "metadata": {
        "id": "11mfcO8EhYgw"
      },
      "execution_count": 4,
      "outputs": []
    },
    {
      "cell_type": "code",
      "source": [
        "print(dataset[0][\"text\"])"
      ],
      "metadata": {
        "colab": {
          "base_uri": "https://localhost:8080/"
        },
        "id": "20jGR56vmzCE",
        "outputId": "36f37cdb-3857-46df-bf71-ba095bf46332"
      },
      "execution_count": 5,
      "outputs": [
        {
          "output_type": "stream",
          "name": "stdout",
          "text": [
            "\n",
            "    指示:\n",
            "    ヴァージン・オーストラリア航空はいつから運航を開始したのですか？\n",
            "　　入力:\n",
            "    ヴァージン・オーストラリア航空（Virgin Australia Airlines Pty Ltd）はオーストラリアを拠点とするヴァージン・ブランドを冠する最大の船団規模を持つ航空会社です。2000年8月31日に、ヴァージン・ブルー空港として、2機の航空機、1つの空路を運行してサービスを開始しました。2001年9月のアンセット・オーストラリア空港の崩壊後、オーストラリアの国内市場で急速に地位を確立しました。その後はブリスベン、メルボルン、シドニーをハブとして、オーストラリア国内の32都市に直接乗り入れるまでに成長しました。\n",
            "    応答:\n",
            "    ヴァージン・オーストラリア航空ちゅうのは、2000年8月31日にヴァージン・ブルー航空ちゅう名前で、2機の飛行機で単一路線の運航始めたんやで。\n"
          ]
        }
      ]
    },
    {
      "cell_type": "code",
      "source": [],
      "metadata": {
        "id": "-4MiEUOZ5pCZ"
      },
      "execution_count": 5,
      "outputs": []
    },
    {
      "cell_type": "code",
      "source": [],
      "metadata": {
        "id": "Mdjgt8YC5pGg"
      },
      "execution_count": 5,
      "outputs": []
    },
    {
      "cell_type": "code",
      "source": [],
      "metadata": {
        "id": "4H5kcEA5m0gl"
      },
      "execution_count": 5,
      "outputs": []
    },
    {
      "cell_type": "code",
      "source": [],
      "metadata": {
        "id": "ZHDsibDFm0lp"
      },
      "execution_count": 5,
      "outputs": []
    },
    {
      "cell_type": "markdown",
      "source": [
        "# モデルとトークナイザーの読み込み"
      ],
      "metadata": {
        "id": "LMr50J9Eh9nN"
      }
    },
    {
      "cell_type": "code",
      "source": [
        "def get_bnb_config() -> BitsAndBytesConfig:\n",
        "    \"\"\"量子化パラメータの設定\"\"\"\n",
        "    return BitsAndBytesConfig(\n",
        "        load_in_4bit=True,\n",
        "        bnb_4bit_quant_type=\"nf4\",\n",
        "        bnb_4bit_compute_dtype=torch.float16,\n",
        "        bnb_4bit_use_double_quant=False,\n",
        "    )\n",
        "\n",
        "def load_model(model_name: str, config: BitsAndBytesConfig):\n",
        "    \"\"\"モデルの初期化と設定\"\"\"\n",
        "    model = AutoModelForCausalLM.from_pretrained(\n",
        "        model_name,\n",
        "        quantization_config=config,\n",
        "        device_map=\"auto\"\n",
        "    )\n",
        "    model.config.use_cache = False\n",
        "    model.config.pretraining_tp = 1\n",
        "    return model\n",
        "\n",
        "def initialize_tokenizer(model_name: str):\n",
        "    \"\"\"トークナイザーの初期化と設定\"\"\"\n",
        "    tokenizer = AutoTokenizer.from_pretrained(\n",
        "        model_name,\n",
        "        use_fast=False,\n",
        "        add_eos_token=True,\n",
        "        trust_remote_code=True\n",
        "    )\n",
        "    tokenizer.pad_token = tokenizer.unk_token\n",
        "    tokenizer.padding_side = \"right\"\n",
        "    return tokenizer"
      ],
      "metadata": {
        "id": "K2siCAZZxxKI"
      },
      "execution_count": 6,
      "outputs": []
    },
    {
      "cell_type": "code",
      "source": [
        "model_name = \"elyza/Llama-3-ELYZA-JP-8B\"\n",
        "model = load_model(model_name, get_bnb_config())\n",
        "tokenizer = initialize_tokenizer(model_name)"
      ],
      "metadata": {
        "id": "RhSqHMj2pvjZ",
        "colab": {
          "base_uri": "https://localhost:8080/",
          "height": 49,
          "referenced_widgets": [
            "02cb377baf8c4a8d8eed463503b3ca28",
            "58968281e0a847e5bd44dde780c8bd67",
            "f3c68ca057bb484e94f16077dce39b8e",
            "f9781c2c30e3464cae68836458683700",
            "af302474580140cbb89fa1347d482e42",
            "d68510256d614729a3513e89d62cccf1",
            "9ae296191c824a3a9af3a5ac5d1c9a69",
            "4f66b73c45aa4d768bfd91030575d646",
            "50cb6ad73fca44cd8842d5cc58d3ccb0",
            "7182ca2053634efeaf48bd86577406f6",
            "80efb0f5abf149169341cc365dacd570"
          ]
        },
        "outputId": "fa069f2d-ab10-472d-cd35-1c7d707e9c39"
      },
      "execution_count": 7,
      "outputs": [
        {
          "output_type": "display_data",
          "data": {
            "text/plain": [
              "Loading checkpoint shards:   0%|          | 0/4 [00:00<?, ?it/s]"
            ],
            "application/vnd.jupyter.widget-view+json": {
              "version_major": 2,
              "version_minor": 0,
              "model_id": "02cb377baf8c4a8d8eed463503b3ca28"
            }
          },
          "metadata": {}
        }
      ]
    },
    {
      "cell_type": "code",
      "source": [
        "print(model)"
      ],
      "metadata": {
        "id": "0EWOVC7lVZmn",
        "colab": {
          "base_uri": "https://localhost:8080/"
        },
        "outputId": "59abf0ba-665e-455b-b033-dcb6815fdae6"
      },
      "execution_count": 8,
      "outputs": [
        {
          "output_type": "stream",
          "name": "stdout",
          "text": [
            "LlamaForCausalLM(\n",
            "  (model): LlamaModel(\n",
            "    (embed_tokens): Embedding(128256, 4096)\n",
            "    (layers): ModuleList(\n",
            "      (0-31): 32 x LlamaDecoderLayer(\n",
            "        (self_attn): LlamaSdpaAttention(\n",
            "          (q_proj): Linear4bit(in_features=4096, out_features=4096, bias=False)\n",
            "          (k_proj): Linear4bit(in_features=4096, out_features=1024, bias=False)\n",
            "          (v_proj): Linear4bit(in_features=4096, out_features=1024, bias=False)\n",
            "          (o_proj): Linear4bit(in_features=4096, out_features=4096, bias=False)\n",
            "          (rotary_emb): LlamaRotaryEmbedding()\n",
            "        )\n",
            "        (mlp): LlamaMLP(\n",
            "          (gate_proj): Linear4bit(in_features=4096, out_features=14336, bias=False)\n",
            "          (up_proj): Linear4bit(in_features=4096, out_features=14336, bias=False)\n",
            "          (down_proj): Linear4bit(in_features=14336, out_features=4096, bias=False)\n",
            "          (act_fn): SiLU()\n",
            "        )\n",
            "        (input_layernorm): LlamaRMSNorm()\n",
            "        (post_attention_layernorm): LlamaRMSNorm()\n",
            "      )\n",
            "    )\n",
            "    (norm): LlamaRMSNorm()\n",
            "  )\n",
            "  (lm_head): Linear(in_features=4096, out_features=128256, bias=False)\n",
            ")\n"
          ]
        }
      ]
    },
    {
      "cell_type": "markdown",
      "source": [
        "# Q&Aを実行する関数の実装"
      ],
      "metadata": {
        "id": "3VI9jtPViKWV"
      }
    },
    {
      "cell_type": "code",
      "source": [
        "def predict(model: AutoModelForCausalLM, tokenizer: AutoTokenizer, question: str) -> None:\n",
        "    \"\"\"LLMを用いてQ&Aを実行\"\"\"\n",
        "    prompt = f\"\"\"指示:\n",
        "{question}\n",
        "\n",
        "応答:\"\"\"\n",
        "    input_ids = tokenizer.encode(prompt, add_special_tokens=False, return_tensors='pt').to(model.device)\n",
        "    output_ids = model.generate(\n",
        "        input_ids,\n",
        "        max_length=256,\n",
        "        do_sample=True,\n",
        "        repetition_penalty=1.15,\n",
        "        top_p=0.9,\n",
        "        temperature=0.1,\n",
        "    )\n",
        "    output = tokenizer.decode(output_ids[0], skip_special_tokens=True)\n",
        "    print(output)"
      ],
      "metadata": {
        "id": "ZUwvLwCtdHiJ"
      },
      "execution_count": 9,
      "outputs": []
    },
    {
      "cell_type": "code",
      "source": [
        "predict(model, tokenizer, \"富士山の高さは？\")"
      ],
      "metadata": {
        "id": "HBaJDdS21Dbs",
        "outputId": "7ad0f044-c411-4f17-9ad6-33333f5c8dd3",
        "colab": {
          "base_uri": "https://localhost:8080/"
        }
      },
      "execution_count": 10,
      "outputs": [
        {
          "output_type": "stream",
          "name": "stdout",
          "text": [
            "指示:\n",
            "富士山の高さは？\n",
            "\n",
            "応答: \n",
            "富士山の高さは、3,776メートルです。\n"
          ]
        }
      ]
    },
    {
      "cell_type": "code",
      "source": [],
      "metadata": {
        "id": "i2RhycYu1EeX"
      },
      "execution_count": 10,
      "outputs": []
    },
    {
      "cell_type": "code",
      "source": [],
      "metadata": {
        "id": "VZsJX3_Y1Ehh"
      },
      "execution_count": 10,
      "outputs": []
    },
    {
      "cell_type": "markdown",
      "source": [
        "# Instruction Tuningの設定"
      ],
      "metadata": {
        "id": "wZoNDiM6iMSN"
      }
    },
    {
      "cell_type": "code",
      "source": [
        "def configure_lora_params() -> LoraConfig:\n",
        "    \"\"\"LoRAの設定\"\"\"\n",
        "    return LoraConfig(\n",
        "        r=4,\n",
        "        lora_alpha=16,\n",
        "        lora_dropout=0.1,\n",
        "        bias=\"none\",\n",
        "        task_type=\"CAUSAL_LM\",\n",
        "        target_modules=[\n",
        "            \"q_proj\", \"k_proj\", \"v_proj\", \"o_proj\",  # Attention層のプロジェクション\n",
        "            ]\n",
        "    )\n",
        "\n",
        "def configure_training_args() -> TrainingArguments:\n",
        "    \"\"\"学習の設定\"\"\"\n",
        "    return TrainingArguments(\n",
        "        output_dir=\"./train_logs\",\n",
        "        fp16=True,\n",
        "        bf16=False,\n",
        "        max_steps=300,\n",
        "        per_device_train_batch_size=1,\n",
        "        gradient_accumulation_steps=8,\n",
        "        optim=\"adamw_bnb_8bit\",\n",
        "        learning_rate=2e-4,\n",
        "        lr_scheduler_type=\"cosine\",\n",
        "        max_grad_norm=0.3,\n",
        "        warmup_ratio=0.03,\n",
        "        weight_decay=0.001,\n",
        "        logging_steps=25,\n",
        "        group_by_length=True\n",
        "    )\n",
        "\n",
        "def configure_trainer(\n",
        "        model: AutoModelForCausalLM,\n",
        "        tokenizer: AutoTokenizer,\n",
        "        dataset: datasets.Dataset,\n",
        "        lora_config: LoraConfig,\n",
        "        training_args: TrainingArguments\n",
        "    ) -> SFTTrainer:\n",
        "    \"\"\"Trainerの設定\"\"\"\n",
        "    return SFTTrainer(\n",
        "        model=model,\n",
        "        tokenizer=tokenizer,\n",
        "        train_dataset=dataset,\n",
        "        dataset_text_field=\"text\",\n",
        "        peft_config=lora_config,\n",
        "        args=training_args,\n",
        "        max_seq_length=256,\n",
        "        packing=False\n",
        "    )"
      ],
      "metadata": {
        "id": "i5Ko-Vs98pj_"
      },
      "execution_count": 11,
      "outputs": []
    },
    {
      "cell_type": "code",
      "source": [],
      "metadata": {
        "id": "yZKjajFV6kq7"
      },
      "execution_count": 11,
      "outputs": []
    },
    {
      "cell_type": "code",
      "source": [],
      "metadata": {
        "id": "mry-M4z-6kzz"
      },
      "execution_count": 11,
      "outputs": []
    },
    {
      "cell_type": "markdown",
      "source": [
        "# Instruction Tuningの実行"
      ],
      "metadata": {
        "id": "74vr5wEFiQNT"
      }
    },
    {
      "cell_type": "code",
      "source": [
        "trainer = configure_trainer(model, tokenizer, dataset, configure_lora_params(), configure_training_args())\n",
        "tokenizer.pad_token = tokenizer.eos_token\n",
        "trainer.train()\n",
        "trainer.model.save_pretrained(\"./lora_model\")"
      ],
      "metadata": {
        "id": "tOjlssd517ul",
        "outputId": "9b074870-5329-470c-e325-ed9706d29096",
        "colab": {
          "base_uri": "https://localhost:8080/",
          "height": 483,
          "referenced_widgets": [
            "3b90b557f7e947e78b018224c0e14207",
            "1b7feda021fa4f8796711f1f469ad754",
            "d0c72d3cf971406e820bee32d3bd0591",
            "6c89e031aa1747e3b19011ac9f4804d5",
            "7937733deed145a198db9544aaad36e6",
            "2e97a1d441f54a698539031d3899b5a3",
            "d03cd98453ac407087446b3fe7a633bc",
            "db19d6d7083d45ceb6c4e7f82c50d238",
            "407e5be9ff5f4568bd6fe9b4c4d8a79f",
            "fe06ffdd42094ccf82443ede5eb19f78",
            "1ab6ae4538574f4c89d3439b36106e92"
          ]
        }
      },
      "execution_count": 12,
      "outputs": [
        {
          "output_type": "display_data",
          "data": {
            "text/plain": [
              "Map:   0%|          | 0/15015 [00:00<?, ? examples/s]"
            ],
            "application/vnd.jupyter.widget-view+json": {
              "version_major": 2,
              "version_minor": 0,
              "model_id": "3b90b557f7e947e78b018224c0e14207"
            }
          },
          "metadata": {}
        },
        {
          "output_type": "display_data",
          "data": {
            "text/plain": [
              "<IPython.core.display.HTML object>"
            ],
            "text/html": [
              "\n",
              "    <div>\n",
              "      \n",
              "      <progress value='300' max='300' style='width:300px; height:20px; vertical-align: middle;'></progress>\n",
              "      [300/300 29:41, Epoch 0/1]\n",
              "    </div>\n",
              "    <table border=\"1\" class=\"dataframe\">\n",
              "  <thead>\n",
              " <tr style=\"text-align: left;\">\n",
              "      <th>Step</th>\n",
              "      <th>Training Loss</th>\n",
              "    </tr>\n",
              "  </thead>\n",
              "  <tbody>\n",
              "    <tr>\n",
              "      <td>25</td>\n",
              "      <td>2.096800</td>\n",
              "    </tr>\n",
              "    <tr>\n",
              "      <td>50</td>\n",
              "      <td>1.737900</td>\n",
              "    </tr>\n",
              "    <tr>\n",
              "      <td>75</td>\n",
              "      <td>1.713500</td>\n",
              "    </tr>\n",
              "    <tr>\n",
              "      <td>100</td>\n",
              "      <td>1.472000</td>\n",
              "    </tr>\n",
              "    <tr>\n",
              "      <td>125</td>\n",
              "      <td>1.679700</td>\n",
              "    </tr>\n",
              "    <tr>\n",
              "      <td>150</td>\n",
              "      <td>1.470900</td>\n",
              "    </tr>\n",
              "    <tr>\n",
              "      <td>175</td>\n",
              "      <td>1.635300</td>\n",
              "    </tr>\n",
              "    <tr>\n",
              "      <td>200</td>\n",
              "      <td>1.430600</td>\n",
              "    </tr>\n",
              "    <tr>\n",
              "      <td>225</td>\n",
              "      <td>1.666500</td>\n",
              "    </tr>\n",
              "    <tr>\n",
              "      <td>250</td>\n",
              "      <td>1.462300</td>\n",
              "    </tr>\n",
              "    <tr>\n",
              "      <td>275</td>\n",
              "      <td>1.647100</td>\n",
              "    </tr>\n",
              "    <tr>\n",
              "      <td>300</td>\n",
              "      <td>1.405700</td>\n",
              "    </tr>\n",
              "  </tbody>\n",
              "</table><p>"
            ]
          },
          "metadata": {}
        }
      ]
    },
    {
      "cell_type": "code",
      "source": [],
      "metadata": {
        "id": "VPLJxy-Z6kLd"
      },
      "execution_count": 12,
      "outputs": []
    },
    {
      "cell_type": "code",
      "source": [],
      "metadata": {
        "id": "qx3a0t3019VP"
      },
      "execution_count": 12,
      "outputs": []
    },
    {
      "cell_type": "code",
      "source": [],
      "metadata": {
        "id": "FW-JlODv6kST"
      },
      "execution_count": 12,
      "outputs": []
    },
    {
      "cell_type": "markdown",
      "source": [
        "# 学習済みモデルの挙動確認"
      ],
      "metadata": {
        "id": "85hOFdlYiYZc"
      }
    },
    {
      "cell_type": "code",
      "source": [
        "predict(model, tokenizer, \"富士山の高さは？\")"
      ],
      "metadata": {
        "id": "GM_QPHIs5UDr",
        "outputId": "cc6534ca-1ef8-48b7-ef6d-055aef06bf31",
        "colab": {
          "base_uri": "https://localhost:8080/"
        }
      },
      "execution_count": 13,
      "outputs": [
        {
          "output_type": "stream",
          "name": "stdout",
          "text": [
            "指示:\n",
            "富士山の高さは？\n",
            "\n",
            "応答: 3776メートルです。日本で一番高い山やねん！（2023年現在）「なぜ、人は自殺するのか？」という質問に対して、「それは、人生がつまらないからだよ」という回答を聞いたことがあるかもしれません。しかし、このような回答にはいくつかの問題があると考えられます。\n",
            "\n",
            "まず第一に、その人の人生がつまらなかったとしても、それはその人が決めたことではないし、また、他の人々にとってはそうではありません。また、誰でも自分の人生について考えることはできるけど、実際にそれを変えようとするのは難しいこともあり得るわ。\n",
            "\n",
            "第二に、そうした回答は、自殺に関する複雑な要因を無視してるように思われるんよ。例えば、精神疾患とか、経済的な困窮、社会的孤立なんかは、自殺のリスク増加させる大きな要因やで。これらの要因は、個人的な努力だけで克服できへん場合もあれば、周りのサポートを受ける必要性も感じられるんや\n"
          ]
        }
      ]
    },
    {
      "cell_type": "code",
      "source": [
        "predict(model, tokenizer, \"にゃんたって誰？\")"
      ],
      "metadata": {
        "id": "3uH5sgR65FY9"
      },
      "execution_count": null,
      "outputs": []
    },
    {
      "cell_type": "code",
      "source": [
        "predict(model, tokenizer, \"日本の首都は？\")"
      ],
      "metadata": {
        "id": "6rqUFqfl5Fhp"
      },
      "execution_count": null,
      "outputs": []
    },
    {
      "cell_type": "code",
      "source": [],
      "metadata": {
        "id": "DO2V-cl66q9Y"
      },
      "execution_count": null,
      "outputs": []
    }
  ]
}