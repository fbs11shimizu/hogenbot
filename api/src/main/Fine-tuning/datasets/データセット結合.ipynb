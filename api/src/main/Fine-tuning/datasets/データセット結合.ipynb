{
  "cells": [
    {
      "cell_type": "code",
      "source": [
        "import pandas as pd\n",
        "import glob\n",
        "\n",
        "# パスで指定したファイルの一覧をリスト形式で取得\n",
        "csv_files = glob.glob('./datasets/*.csv')\n",
        "\n",
        "#読み込むファイルのリストを表示\n",
        "for name in csv_files:\n",
        "    print(name)\n",
        "\n",
        "#csvファイルの中身を追加していくリストを用意\n",
        "data_list = []\n",
        "\n",
        "#読み込むファイルのリストを走査\n",
        "for file in csv_files:\n",
        "    data_list.append(pd.read_csv(file))\n",
        "\n",
        "#リストを全て行方向に結合\n",
        "#axis=0:行方向に結合, sort\n",
        "df = pd.concat(data_list, axis=0, sort=True)\n",
        "\n",
        "df.to_csv(\"./datasets/dataset_kansaiben.csv\",index=False)\n"
      ],
      "outputs": [
        {
          "output_type": "stream",
          "name": "stdout",
          "text": "./datasets/dataset_kansaiben_0-01000_0925_031055.csv\n./datasets/dataset_kansaiben_01000-02000_0925_023245.csv\n./datasets/dataset_kansaiben_02000-03000_0925_023205.csv\n./datasets/dataset_kansaiben_03000-04000_0925_023222.csv\n./datasets/dataset_kansaiben_04000-05000_0925_024304.csv\n./datasets/dataset_kansaiben_05000-06000_0924_135406.csv\n./datasets/dataset_kansaiben_06000-06500_0925_010134.csv\n./datasets/dataset_kansaiben_06500-07000_0925_010412.csv\n./datasets/dataset_kansaiben_07000-07500_0925_010152.csv\n./datasets/dataset_kansaiben_07500-08000_0925_011633.csv\n./datasets/dataset_kansaiben_08000-08500_0925_011733.csv\n./datasets/dataset_kansaiben_08500-09000_0925_011859.csv\n./datasets/dataset_kansaiben_09000-09500_0925_013446.csv\n./datasets/dataset_kansaiben_09500-10000_0925_013454.csv\n./datasets/dataset_kansaiben_10000-10500_0925_013605.csv\n./datasets/dataset_kansaiben_10500-11000_0925_014226.csv\n./datasets/dataset_kansaiben_11000-12000_0925_020344.csv\n./datasets/dataset_kansaiben_12000-13000_0925_020506.csv\n./datasets/dataset_kansaiben_13000-14000_0925_020408.csv\n./datasets/dataset_kansaiben_14000-15015_0925_021410.csv\n"
        }
      ],
      "execution_count": 1,
      "metadata": {
        "gather": {
          "logged": 1727202248445
        }
      }
    },
    {
      "cell_type": "code",
      "source": [],
      "outputs": [],
      "execution_count": null,
      "metadata": {
        "jupyter": {
          "source_hidden": false,
          "outputs_hidden": false
        },
        "nteract": {
          "transient": {
            "deleting": false
          }
        }
      }
    }
  ],
  "metadata": {
    "kernelspec": {
      "name": "python310-sdkv2",
      "language": "python",
      "display_name": "Python 3.10 - SDK v2"
    },
    "language_info": {
      "name": "python",
      "version": "3.10.14",
      "mimetype": "text/x-python",
      "codemirror_mode": {
        "name": "ipython",
        "version": 3
      },
      "pygments_lexer": "ipython3",
      "nbconvert_exporter": "python",
      "file_extension": ".py"
    },
    "kernel_info": {
      "name": "python310-sdkv2"
    },
    "nteract": {
      "version": "nteract-front-end@1.0.0"
    }
  },
  "nbformat": 4,
  "nbformat_minor": 2
}